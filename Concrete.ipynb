{
  "nbformat": 4,
  "nbformat_minor": 0,
  "metadata": {
    "colab": {
      "name": "Concrete.ipynb",
      "provenance": [],
      "collapsed_sections": []
    },
    "kernelspec": {
      "name": "python3",
      "display_name": "Python 3"
    },
    "language_info": {
      "name": "python"
    }
  },
  "cells": [
    {
      "cell_type": "code",
      "metadata": {
        "id": "IzEMg5B8HsbN"
      },
      "source": [
        "import pandas as pd\n",
        "import numpy as np\n",
        "import matplotlib.pyplot as plt\n",
        "from sklearn.preprocessing import StandardScaler\n",
        "from sklearn.model_selection import train_test_split\n",
        "import tensorflow as tf\n",
        "from tensorflow.keras import models,layers,optimizers,utils\n",
        "from tensorflow.keras.utils import to_categorical\n",
        "from tensorflow.keras.models import Sequential\n",
        "from tensorflow.keras.layers import Dense\n",
        "import math\n",
        "from sklearn.metrics import mean_squared_error"
      ],
      "execution_count": 1,
      "outputs": []
    },
    {
      "cell_type": "code",
      "metadata": {
        "colab": {
          "resources": {
            "http://localhost:8080/nbextensions/google.colab/files.js": {
              "data": "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",
              "ok": true,
              "headers": [
                [
                  "content-type",
                  "application/javascript"
                ]
              ],
              "status": 200,
              "status_text": ""
            }
          },
          "base_uri": "https://localhost:8080/",
          "height": 72
        },
        "id": "U8xuf2dMHxhm",
        "outputId": "afa09ede-1cef-406c-e934-bbebb799963f"
      },
      "source": [
        "import io\n",
        "from google.colab import files\n",
        "uploaded = files.upload()\n",
        "\n"
      ],
      "execution_count": 12,
      "outputs": [
        {
          "output_type": "display_data",
          "data": {
            "text/html": [
              "\n",
              "     <input type=\"file\" id=\"files-9767de00-2e3a-4256-83c8-e3beab740b86\" name=\"files[]\" multiple disabled\n",
              "        style=\"border:none\" />\n",
              "     <output id=\"result-9767de00-2e3a-4256-83c8-e3beab740b86\">\n",
              "      Upload widget is only available when the cell has been executed in the\n",
              "      current browser session. Please rerun this cell to enable.\n",
              "      </output>\n",
              "      <script src=\"/nbextensions/google.colab/files.js\"></script> "
            ],
            "text/plain": [
              "<IPython.core.display.HTML object>"
            ]
          },
          "metadata": {
            "tags": []
          }
        },
        {
          "output_type": "stream",
          "text": [
            "Saving Concrete__Data_.csv to Concrete__Data_.csv\n"
          ],
          "name": "stdout"
        }
      ]
    },
    {
      "cell_type": "code",
      "metadata": {
        "colab": {
          "base_uri": "https://localhost:8080/",
          "height": 255
        },
        "id": "AUU7mxulLb_w",
        "outputId": "f5e8a2b8-b41b-4b16-833e-fd45912bf8ae"
      },
      "source": [
        "df = pd.read_csv(io.BytesIO(uploaded['Concrete__Data_.csv']))\n",
        "df.head()\n"
      ],
      "execution_count": 14,
      "outputs": [
        {
          "output_type": "execute_result",
          "data": {
            "text/html": [
              "<div>\n",
              "<style scoped>\n",
              "    .dataframe tbody tr th:only-of-type {\n",
              "        vertical-align: middle;\n",
              "    }\n",
              "\n",
              "    .dataframe tbody tr th {\n",
              "        vertical-align: top;\n",
              "    }\n",
              "\n",
              "    .dataframe thead th {\n",
              "        text-align: right;\n",
              "    }\n",
              "</style>\n",
              "<table border=\"1\" class=\"dataframe\">\n",
              "  <thead>\n",
              "    <tr style=\"text-align: right;\">\n",
              "      <th></th>\n",
              "      <th>Cement (component 1)(kg in a m^3 mixture)</th>\n",
              "      <th>Blast Furnace Slag (component 2)(kg in a m^3 mixture)</th>\n",
              "      <th>Fly Ash (component 3)(kg in a m^3 mixture)</th>\n",
              "      <th>Water  (component 4)(kg in a m^3 mixture)</th>\n",
              "      <th>Superplasticizer (component 5)(kg in a m^3 mixture)</th>\n",
              "      <th>Coarse Aggregate  (component 6)(kg in a m^3 mixture)</th>\n",
              "      <th>Fine Aggregate (component 7)(kg in a m^3 mixture)</th>\n",
              "      <th>Age (day)</th>\n",
              "      <th>Concrete compressive strength(MPa, megapascals)</th>\n",
              "    </tr>\n",
              "  </thead>\n",
              "  <tbody>\n",
              "    <tr>\n",
              "      <th>0</th>\n",
              "      <td>540.0</td>\n",
              "      <td>0.0</td>\n",
              "      <td>0.0</td>\n",
              "      <td>162.0</td>\n",
              "      <td>2.5</td>\n",
              "      <td>1040.0</td>\n",
              "      <td>676.0</td>\n",
              "      <td>28</td>\n",
              "      <td>79.99</td>\n",
              "    </tr>\n",
              "    <tr>\n",
              "      <th>1</th>\n",
              "      <td>540.0</td>\n",
              "      <td>0.0</td>\n",
              "      <td>0.0</td>\n",
              "      <td>162.0</td>\n",
              "      <td>2.5</td>\n",
              "      <td>1055.0</td>\n",
              "      <td>676.0</td>\n",
              "      <td>28</td>\n",
              "      <td>61.89</td>\n",
              "    </tr>\n",
              "    <tr>\n",
              "      <th>2</th>\n",
              "      <td>332.5</td>\n",
              "      <td>142.5</td>\n",
              "      <td>0.0</td>\n",
              "      <td>228.0</td>\n",
              "      <td>0.0</td>\n",
              "      <td>932.0</td>\n",
              "      <td>594.0</td>\n",
              "      <td>270</td>\n",
              "      <td>40.27</td>\n",
              "    </tr>\n",
              "    <tr>\n",
              "      <th>3</th>\n",
              "      <td>332.5</td>\n",
              "      <td>142.5</td>\n",
              "      <td>0.0</td>\n",
              "      <td>228.0</td>\n",
              "      <td>0.0</td>\n",
              "      <td>932.0</td>\n",
              "      <td>594.0</td>\n",
              "      <td>365</td>\n",
              "      <td>41.05</td>\n",
              "    </tr>\n",
              "    <tr>\n",
              "      <th>4</th>\n",
              "      <td>198.6</td>\n",
              "      <td>132.4</td>\n",
              "      <td>0.0</td>\n",
              "      <td>192.0</td>\n",
              "      <td>0.0</td>\n",
              "      <td>978.4</td>\n",
              "      <td>825.5</td>\n",
              "      <td>360</td>\n",
              "      <td>44.30</td>\n",
              "    </tr>\n",
              "  </tbody>\n",
              "</table>\n",
              "</div>"
            ],
            "text/plain": [
              "   Cement (component 1)(kg in a m^3 mixture)  ...  Concrete compressive strength(MPa, megapascals) \n",
              "0                                      540.0  ...                                             79.99\n",
              "1                                      540.0  ...                                             61.89\n",
              "2                                      332.5  ...                                             40.27\n",
              "3                                      332.5  ...                                             41.05\n",
              "4                                      198.6  ...                                             44.30\n",
              "\n",
              "[5 rows x 9 columns]"
            ]
          },
          "metadata": {
            "tags": []
          },
          "execution_count": 14
        }
      ]
    },
    {
      "cell_type": "code",
      "metadata": {
        "id": "BHSi346xLO19"
      },
      "source": [
        "y=df['Concrete compressive strength(MPa, megapascals) '].copy()\n",
        "x=df.drop('Concrete compressive strength(MPa, megapascals) ', axis=1).copy()\n",
        "x_train,x_test,y_train,y_test=train_test_split(x,y,train_size=0.7,random_state=123)"
      ],
      "execution_count": 15,
      "outputs": []
    },
    {
      "cell_type": "code",
      "metadata": {
        "colab": {
          "base_uri": "https://localhost:8080/"
        },
        "id": "LMb617ddLO3R",
        "outputId": "d0a62963-59b7-4f99-b507-e560b226f307"
      },
      "source": [
        "scaler = StandardScaler()\n",
        "scaler.fit(x_train)\n"
      ],
      "execution_count": 16,
      "outputs": [
        {
          "output_type": "execute_result",
          "data": {
            "text/plain": [
              "StandardScaler(copy=True, with_mean=True, with_std=True)"
            ]
          },
          "metadata": {
            "tags": []
          },
          "execution_count": 16
        }
      ]
    },
    {
      "cell_type": "code",
      "metadata": {
        "id": "AeIBmy66M1f1"
      },
      "source": [
        "\n",
        "x_train =pd.DataFrame(scaler.transform(x_train),columns=x_train.columns)\n",
        "x_test=pd.DataFrame(scaler.transform(x_test),columns=x_test.columns)"
      ],
      "execution_count": 18,
      "outputs": []
    },
    {
      "cell_type": "code",
      "metadata": {
        "id": "UNWw7OQ3M1iR"
      },
      "source": [
        "part_x_train, x_val, part_y_train, y_val = train_test_split(x_train, y_train, test_size=0.2, random_state=2)"
      ],
      "execution_count": 19,
      "outputs": []
    },
    {
      "cell_type": "code",
      "metadata": {
        "id": "CXr3kWgaM1qL"
      },
      "source": [
        "model = Sequential()\n",
        "model.add(Dense(12, input_dim=8, activation= \"relu\"))\n",
        "model.add(Dense(10, activation= \"relu\"))\n",
        "model.add(Dense(8, activation= \"relu\"))\n",
        "model.add(Dense(6, activation= \"relu\"))\n",
        "model.add(Dense(1,activation=\"relu\"))\n",
        "model.compile(loss= \"mean_squared_error\" , optimizer=\"adam\", metrics=[\"acc\"])"
      ],
      "execution_count": 20,
      "outputs": []
    },
    {
      "cell_type": "code",
      "metadata": {
        "colab": {
          "base_uri": "https://localhost:8080/"
        },
        "id": "iCiOZG3ZM1sz",
        "outputId": "984e6c8d-39d4-49e6-d7f1-d2cdb3adc7f6"
      },
      "source": [
        "model.fit(part_x_train,part_y_train,epochs=100,validation_data=(x_val,y_val),batch_size=128)"
      ],
      "execution_count": 21,
      "outputs": [
        {
          "output_type": "stream",
          "text": [
            "Epoch 1/100\n",
            "5/5 [==============================] - 1s 70ms/step - loss: 1632.8872 - acc: 0.0000e+00 - val_loss: 1468.8092 - val_acc: 0.0000e+00\n",
            "Epoch 2/100\n",
            "5/5 [==============================] - 0s 12ms/step - loss: 1615.0316 - acc: 0.0000e+00 - val_loss: 1467.9484 - val_acc: 0.0000e+00\n",
            "Epoch 3/100\n",
            "5/5 [==============================] - 0s 14ms/step - loss: 1540.1936 - acc: 0.0000e+00 - val_loss: 1466.7274 - val_acc: 0.0000e+00\n",
            "Epoch 4/100\n",
            "5/5 [==============================] - 0s 12ms/step - loss: 1545.6875 - acc: 0.0000e+00 - val_loss: 1465.1716 - val_acc: 0.0000e+00\n",
            "Epoch 5/100\n",
            "5/5 [==============================] - 0s 12ms/step - loss: 1647.5188 - acc: 0.0000e+00 - val_loss: 1463.3225 - val_acc: 0.0000e+00\n",
            "Epoch 6/100\n",
            "5/5 [==============================] - 0s 15ms/step - loss: 1571.0566 - acc: 0.0000e+00 - val_loss: 1461.2137 - val_acc: 0.0000e+00\n",
            "Epoch 7/100\n",
            "5/5 [==============================] - 0s 15ms/step - loss: 1568.5397 - acc: 0.0000e+00 - val_loss: 1458.8201 - val_acc: 0.0000e+00\n",
            "Epoch 8/100\n",
            "5/5 [==============================] - 0s 13ms/step - loss: 1616.3324 - acc: 0.0000e+00 - val_loss: 1456.0240 - val_acc: 0.0000e+00\n",
            "Epoch 9/100\n",
            "5/5 [==============================] - 0s 14ms/step - loss: 1573.0630 - acc: 0.0000e+00 - val_loss: 1452.5302 - val_acc: 0.0000e+00\n",
            "Epoch 10/100\n",
            "5/5 [==============================] - 0s 12ms/step - loss: 1657.8531 - acc: 0.0000e+00 - val_loss: 1448.2162 - val_acc: 0.0000e+00\n",
            "Epoch 11/100\n",
            "5/5 [==============================] - 0s 16ms/step - loss: 1579.0200 - acc: 0.0000e+00 - val_loss: 1442.9131 - val_acc: 0.0000e+00\n",
            "Epoch 12/100\n",
            "5/5 [==============================] - 0s 13ms/step - loss: 1598.5132 - acc: 0.0000e+00 - val_loss: 1436.4335 - val_acc: 0.0000e+00\n",
            "Epoch 13/100\n",
            "5/5 [==============================] - 0s 13ms/step - loss: 1556.8267 - acc: 0.0000e+00 - val_loss: 1428.6710 - val_acc: 0.0000e+00\n",
            "Epoch 14/100\n",
            "5/5 [==============================] - 0s 13ms/step - loss: 1550.2687 - acc: 0.0000e+00 - val_loss: 1419.3469 - val_acc: 0.0000e+00\n",
            "Epoch 15/100\n",
            "5/5 [==============================] - 0s 15ms/step - loss: 1548.4821 - acc: 0.0000e+00 - val_loss: 1408.4351 - val_acc: 0.0000e+00\n",
            "Epoch 16/100\n",
            "5/5 [==============================] - 0s 13ms/step - loss: 1532.3604 - acc: 0.0000e+00 - val_loss: 1395.9370 - val_acc: 0.0000e+00\n",
            "Epoch 17/100\n",
            "5/5 [==============================] - 0s 14ms/step - loss: 1513.3955 - acc: 0.0000e+00 - val_loss: 1381.3026 - val_acc: 0.0000e+00\n",
            "Epoch 18/100\n",
            "5/5 [==============================] - 0s 14ms/step - loss: 1474.0074 - acc: 0.0000e+00 - val_loss: 1364.0170 - val_acc: 0.0000e+00\n",
            "Epoch 19/100\n",
            "5/5 [==============================] - 0s 14ms/step - loss: 1493.0458 - acc: 0.0000e+00 - val_loss: 1343.5557 - val_acc: 0.0000e+00\n",
            "Epoch 20/100\n",
            "5/5 [==============================] - 0s 14ms/step - loss: 1443.3559 - acc: 0.0000e+00 - val_loss: 1319.9165 - val_acc: 0.0000e+00\n",
            "Epoch 21/100\n",
            "5/5 [==============================] - 0s 15ms/step - loss: 1440.5962 - acc: 0.0000e+00 - val_loss: 1292.7860 - val_acc: 0.0000e+00\n",
            "Epoch 22/100\n",
            "5/5 [==============================] - 0s 13ms/step - loss: 1417.4034 - acc: 0.0000e+00 - val_loss: 1262.2260 - val_acc: 0.0000e+00\n",
            "Epoch 23/100\n",
            "5/5 [==============================] - 0s 14ms/step - loss: 1361.9133 - acc: 0.0000e+00 - val_loss: 1227.9692 - val_acc: 0.0000e+00\n",
            "Epoch 24/100\n",
            "5/5 [==============================] - 0s 13ms/step - loss: 1347.5091 - acc: 0.0000e+00 - val_loss: 1189.9539 - val_acc: 0.0000e+00\n",
            "Epoch 25/100\n",
            "5/5 [==============================] - 0s 13ms/step - loss: 1369.1131 - acc: 0.0000e+00 - val_loss: 1147.7699 - val_acc: 0.0000e+00\n",
            "Epoch 26/100\n",
            "5/5 [==============================] - 0s 12ms/step - loss: 1284.8720 - acc: 0.0000e+00 - val_loss: 1101.3442 - val_acc: 0.0000e+00\n",
            "Epoch 27/100\n",
            "5/5 [==============================] - 0s 13ms/step - loss: 1200.2747 - acc: 0.0000e+00 - val_loss: 1050.1833 - val_acc: 0.0000e+00\n",
            "Epoch 28/100\n",
            "5/5 [==============================] - 0s 12ms/step - loss: 1154.9317 - acc: 0.0000e+00 - val_loss: 993.9009 - val_acc: 0.0000e+00\n",
            "Epoch 29/100\n",
            "5/5 [==============================] - 0s 12ms/step - loss: 1066.0194 - acc: 0.0000e+00 - val_loss: 932.4710 - val_acc: 0.0000e+00\n",
            "Epoch 30/100\n",
            "5/5 [==============================] - 0s 14ms/step - loss: 1011.8301 - acc: 0.0000e+00 - val_loss: 866.0036 - val_acc: 0.0000e+00\n",
            "Epoch 31/100\n",
            "5/5 [==============================] - 0s 16ms/step - loss: 944.8593 - acc: 0.0000e+00 - val_loss: 795.3004 - val_acc: 0.0000e+00\n",
            "Epoch 32/100\n",
            "5/5 [==============================] - 0s 14ms/step - loss: 854.3858 - acc: 0.0000e+00 - val_loss: 721.4007 - val_acc: 0.0000e+00\n",
            "Epoch 33/100\n",
            "5/5 [==============================] - 0s 15ms/step - loss: 781.6874 - acc: 0.0000e+00 - val_loss: 645.8149 - val_acc: 0.0000e+00\n",
            "Epoch 34/100\n",
            "5/5 [==============================] - 0s 13ms/step - loss: 712.7801 - acc: 0.0000e+00 - val_loss: 569.4117 - val_acc: 0.0000e+00\n",
            "Epoch 35/100\n",
            "5/5 [==============================] - 0s 13ms/step - loss: 628.1703 - acc: 0.0000e+00 - val_loss: 494.8326 - val_acc: 0.0000e+00\n",
            "Epoch 36/100\n",
            "5/5 [==============================] - 0s 13ms/step - loss: 574.6790 - acc: 0.0000e+00 - val_loss: 423.7469 - val_acc: 0.0000e+00\n",
            "Epoch 37/100\n",
            "5/5 [==============================] - 0s 13ms/step - loss: 464.2794 - acc: 0.0000e+00 - val_loss: 359.4537 - val_acc: 0.0000e+00\n",
            "Epoch 38/100\n",
            "5/5 [==============================] - 0s 13ms/step - loss: 398.4190 - acc: 0.0000e+00 - val_loss: 303.3521 - val_acc: 0.0000e+00\n",
            "Epoch 39/100\n",
            "5/5 [==============================] - 0s 16ms/step - loss: 356.8919 - acc: 0.0000e+00 - val_loss: 256.7575 - val_acc: 0.0000e+00\n",
            "Epoch 40/100\n",
            "5/5 [==============================] - 0s 16ms/step - loss: 303.3748 - acc: 0.0000e+00 - val_loss: 221.6664 - val_acc: 0.0000e+00\n",
            "Epoch 41/100\n",
            "5/5 [==============================] - 0s 13ms/step - loss: 284.7136 - acc: 0.0000e+00 - val_loss: 197.1551 - val_acc: 0.0000e+00\n",
            "Epoch 42/100\n",
            "5/5 [==============================] - 0s 13ms/step - loss: 257.4340 - acc: 0.0000e+00 - val_loss: 182.0242 - val_acc: 0.0000e+00\n",
            "Epoch 43/100\n",
            "5/5 [==============================] - 0s 13ms/step - loss: 262.0874 - acc: 0.0000e+00 - val_loss: 172.7518 - val_acc: 0.0000e+00\n",
            "Epoch 44/100\n",
            "5/5 [==============================] - 0s 14ms/step - loss: 252.3342 - acc: 0.0000e+00 - val_loss: 167.4922 - val_acc: 0.0000e+00\n",
            "Epoch 45/100\n",
            "5/5 [==============================] - 0s 14ms/step - loss: 240.7709 - acc: 0.0000e+00 - val_loss: 164.4622 - val_acc: 0.0000e+00\n",
            "Epoch 46/100\n",
            "5/5 [==============================] - 0s 13ms/step - loss: 240.7927 - acc: 0.0000e+00 - val_loss: 162.2222 - val_acc: 0.0000e+00\n",
            "Epoch 47/100\n",
            "5/5 [==============================] - 0s 13ms/step - loss: 229.3338 - acc: 0.0000e+00 - val_loss: 160.3444 - val_acc: 0.0000e+00\n",
            "Epoch 48/100\n",
            "5/5 [==============================] - 0s 13ms/step - loss: 232.9704 - acc: 0.0000e+00 - val_loss: 158.8574 - val_acc: 0.0000e+00\n",
            "Epoch 49/100\n",
            "5/5 [==============================] - 0s 17ms/step - loss: 221.9296 - acc: 0.0000e+00 - val_loss: 157.6096 - val_acc: 0.0000e+00\n",
            "Epoch 50/100\n",
            "5/5 [==============================] - 0s 14ms/step - loss: 217.9998 - acc: 0.0000e+00 - val_loss: 156.5683 - val_acc: 0.0000e+00\n",
            "Epoch 51/100\n",
            "5/5 [==============================] - 0s 13ms/step - loss: 224.1674 - acc: 0.0000e+00 - val_loss: 155.4732 - val_acc: 0.0000e+00\n",
            "Epoch 52/100\n",
            "5/5 [==============================] - 0s 15ms/step - loss: 225.5374 - acc: 0.0000e+00 - val_loss: 154.4189 - val_acc: 0.0000e+00\n",
            "Epoch 53/100\n",
            "5/5 [==============================] - 0s 14ms/step - loss: 212.4408 - acc: 0.0000e+00 - val_loss: 153.3181 - val_acc: 0.0000e+00\n",
            "Epoch 54/100\n",
            "5/5 [==============================] - 0s 17ms/step - loss: 211.8349 - acc: 0.0000e+00 - val_loss: 152.3186 - val_acc: 0.0000e+00\n",
            "Epoch 55/100\n",
            "5/5 [==============================] - 0s 17ms/step - loss: 214.9507 - acc: 0.0000e+00 - val_loss: 151.0159 - val_acc: 0.0000e+00\n",
            "Epoch 56/100\n",
            "5/5 [==============================] - 0s 14ms/step - loss: 215.3738 - acc: 0.0000e+00 - val_loss: 149.7766 - val_acc: 0.0000e+00\n",
            "Epoch 57/100\n",
            "5/5 [==============================] - 0s 13ms/step - loss: 211.9193 - acc: 0.0000e+00 - val_loss: 148.6140 - val_acc: 0.0000e+00\n",
            "Epoch 58/100\n",
            "5/5 [==============================] - 0s 14ms/step - loss: 201.5346 - acc: 0.0000e+00 - val_loss: 147.4786 - val_acc: 0.0000e+00\n",
            "Epoch 59/100\n",
            "5/5 [==============================] - 0s 14ms/step - loss: 202.0067 - acc: 0.0000e+00 - val_loss: 146.2549 - val_acc: 0.0000e+00\n",
            "Epoch 60/100\n",
            "5/5 [==============================] - 0s 17ms/step - loss: 201.3848 - acc: 0.0000e+00 - val_loss: 145.4865 - val_acc: 0.0000e+00\n",
            "Epoch 61/100\n",
            "5/5 [==============================] - 0s 17ms/step - loss: 197.6365 - acc: 0.0000e+00 - val_loss: 144.4191 - val_acc: 0.0000e+00\n",
            "Epoch 62/100\n",
            "5/5 [==============================] - 0s 13ms/step - loss: 193.5613 - acc: 0.0000e+00 - val_loss: 143.4804 - val_acc: 0.0000e+00\n",
            "Epoch 63/100\n",
            "5/5 [==============================] - 0s 14ms/step - loss: 187.1570 - acc: 0.0000e+00 - val_loss: 142.5398 - val_acc: 0.0000e+00\n",
            "Epoch 64/100\n",
            "5/5 [==============================] - 0s 14ms/step - loss: 195.4137 - acc: 0.0000e+00 - val_loss: 141.6309 - val_acc: 0.0000e+00\n",
            "Epoch 65/100\n",
            "5/5 [==============================] - 0s 13ms/step - loss: 197.0561 - acc: 0.0000e+00 - val_loss: 140.7575 - val_acc: 0.0000e+00\n",
            "Epoch 66/100\n",
            "5/5 [==============================] - 0s 14ms/step - loss: 191.8595 - acc: 0.0000e+00 - val_loss: 139.5992 - val_acc: 0.0000e+00\n",
            "Epoch 67/100\n",
            "5/5 [==============================] - 0s 13ms/step - loss: 186.8810 - acc: 0.0000e+00 - val_loss: 138.6099 - val_acc: 0.0000e+00\n",
            "Epoch 68/100\n",
            "5/5 [==============================] - 0s 13ms/step - loss: 180.8000 - acc: 0.0000e+00 - val_loss: 137.5244 - val_acc: 0.0000e+00\n",
            "Epoch 69/100\n",
            "5/5 [==============================] - 0s 14ms/step - loss: 185.4081 - acc: 0.0000e+00 - val_loss: 136.4485 - val_acc: 0.0000e+00\n",
            "Epoch 70/100\n",
            "5/5 [==============================] - 0s 15ms/step - loss: 182.6272 - acc: 0.0000e+00 - val_loss: 135.6704 - val_acc: 0.0000e+00\n",
            "Epoch 71/100\n",
            "5/5 [==============================] - 0s 13ms/step - loss: 173.7678 - acc: 0.0000e+00 - val_loss: 134.9999 - val_acc: 0.0000e+00\n",
            "Epoch 72/100\n",
            "5/5 [==============================] - 0s 14ms/step - loss: 173.3483 - acc: 0.0000e+00 - val_loss: 134.0175 - val_acc: 0.0000e+00\n",
            "Epoch 73/100\n",
            "5/5 [==============================] - 0s 15ms/step - loss: 178.7170 - acc: 0.0000e+00 - val_loss: 133.4524 - val_acc: 0.0000e+00\n",
            "Epoch 74/100\n",
            "5/5 [==============================] - 0s 13ms/step - loss: 181.5468 - acc: 0.0000e+00 - val_loss: 132.7172 - val_acc: 0.0000e+00\n",
            "Epoch 75/100\n",
            "5/5 [==============================] - 0s 14ms/step - loss: 165.9608 - acc: 0.0000e+00 - val_loss: 131.4500 - val_acc: 0.0000e+00\n",
            "Epoch 76/100\n",
            "5/5 [==============================] - 0s 14ms/step - loss: 176.8397 - acc: 0.0000e+00 - val_loss: 130.3936 - val_acc: 0.0000e+00\n",
            "Epoch 77/100\n",
            "5/5 [==============================] - 0s 14ms/step - loss: 164.2649 - acc: 0.0000e+00 - val_loss: 129.5782 - val_acc: 0.0000e+00\n",
            "Epoch 78/100\n",
            "5/5 [==============================] - 0s 13ms/step - loss: 167.5466 - acc: 0.0000e+00 - val_loss: 128.7173 - val_acc: 0.0000e+00\n",
            "Epoch 79/100\n",
            "5/5 [==============================] - 0s 13ms/step - loss: 170.0512 - acc: 0.0000e+00 - val_loss: 127.9138 - val_acc: 0.0000e+00\n",
            "Epoch 80/100\n",
            "5/5 [==============================] - 0s 14ms/step - loss: 172.7334 - acc: 0.0000e+00 - val_loss: 126.9572 - val_acc: 0.0000e+00\n",
            "Epoch 81/100\n",
            "5/5 [==============================] - 0s 14ms/step - loss: 170.9034 - acc: 0.0000e+00 - val_loss: 126.0368 - val_acc: 0.0000e+00\n",
            "Epoch 82/100\n",
            "5/5 [==============================] - 0s 14ms/step - loss: 162.3117 - acc: 0.0000e+00 - val_loss: 125.3532 - val_acc: 0.0000e+00\n",
            "Epoch 83/100\n",
            "5/5 [==============================] - 0s 16ms/step - loss: 162.5835 - acc: 0.0000e+00 - val_loss: 124.7902 - val_acc: 0.0000e+00\n",
            "Epoch 84/100\n",
            "5/5 [==============================] - 0s 15ms/step - loss: 155.3914 - acc: 0.0000e+00 - val_loss: 124.1707 - val_acc: 0.0000e+00\n",
            "Epoch 85/100\n",
            "5/5 [==============================] - 0s 13ms/step - loss: 158.8942 - acc: 0.0000e+00 - val_loss: 123.3796 - val_acc: 0.0000e+00\n",
            "Epoch 86/100\n",
            "5/5 [==============================] - 0s 14ms/step - loss: 154.1525 - acc: 0.0000e+00 - val_loss: 122.7429 - val_acc: 0.0000e+00\n",
            "Epoch 87/100\n",
            "5/5 [==============================] - 0s 15ms/step - loss: 155.1490 - acc: 0.0000e+00 - val_loss: 122.0665 - val_acc: 0.0000e+00\n",
            "Epoch 88/100\n",
            "5/5 [==============================] - 0s 15ms/step - loss: 159.5919 - acc: 0.0000e+00 - val_loss: 121.4155 - val_acc: 0.0000e+00\n",
            "Epoch 89/100\n",
            "5/5 [==============================] - 0s 14ms/step - loss: 153.6255 - acc: 0.0000e+00 - val_loss: 120.7012 - val_acc: 0.0000e+00\n",
            "Epoch 90/100\n",
            "5/5 [==============================] - 0s 15ms/step - loss: 146.8765 - acc: 0.0000e+00 - val_loss: 120.0603 - val_acc: 0.0000e+00\n",
            "Epoch 91/100\n",
            "5/5 [==============================] - 0s 14ms/step - loss: 151.4325 - acc: 0.0000e+00 - val_loss: 119.0750 - val_acc: 0.0000e+00\n",
            "Epoch 92/100\n",
            "5/5 [==============================] - 0s 14ms/step - loss: 146.5468 - acc: 0.0000e+00 - val_loss: 118.1109 - val_acc: 0.0000e+00\n",
            "Epoch 93/100\n",
            "5/5 [==============================] - 0s 13ms/step - loss: 141.7376 - acc: 0.0000e+00 - val_loss: 117.1903 - val_acc: 0.0000e+00\n",
            "Epoch 94/100\n",
            "5/5 [==============================] - 0s 13ms/step - loss: 147.1224 - acc: 0.0000e+00 - val_loss: 116.5025 - val_acc: 0.0000e+00\n",
            "Epoch 95/100\n",
            "5/5 [==============================] - 0s 14ms/step - loss: 148.0172 - acc: 0.0000e+00 - val_loss: 115.9197 - val_acc: 0.0000e+00\n",
            "Epoch 96/100\n",
            "5/5 [==============================] - 0s 14ms/step - loss: 145.4616 - acc: 0.0000e+00 - val_loss: 115.7568 - val_acc: 0.0000e+00\n",
            "Epoch 97/100\n",
            "5/5 [==============================] - 0s 14ms/step - loss: 150.6427 - acc: 0.0000e+00 - val_loss: 115.2244 - val_acc: 0.0000e+00\n",
            "Epoch 98/100\n",
            "5/5 [==============================] - 0s 13ms/step - loss: 147.5545 - acc: 0.0000e+00 - val_loss: 114.6332 - val_acc: 0.0000e+00\n",
            "Epoch 99/100\n",
            "5/5 [==============================] - 0s 16ms/step - loss: 151.8038 - acc: 0.0000e+00 - val_loss: 113.8594 - val_acc: 0.0000e+00\n",
            "Epoch 100/100\n",
            "5/5 [==============================] - 0s 15ms/step - loss: 148.3928 - acc: 0.0000e+00 - val_loss: 113.4841 - val_acc: 0.0000e+00\n"
          ],
          "name": "stdout"
        },
        {
          "output_type": "execute_result",
          "data": {
            "text/plain": [
              "<tensorflow.python.keras.callbacks.History at 0x7fa540ef5110>"
            ]
          },
          "metadata": {
            "tags": []
          },
          "execution_count": 21
        }
      ]
    },
    {
      "cell_type": "code",
      "metadata": {
        "colab": {
          "base_uri": "https://localhost:8080/"
        },
        "id": "B-fX1F4cM1u6",
        "outputId": "5a817a9c-5f78-4022-fa95-2aa344156c64"
      },
      "source": [
        "model.evaluate(x_test,y_test)"
      ],
      "execution_count": 22,
      "outputs": [
        {
          "output_type": "stream",
          "text": [
            "10/10 [==============================] - 0s 2ms/step - loss: 138.0967 - acc: 0.0000e+00\n"
          ],
          "name": "stdout"
        },
        {
          "output_type": "execute_result",
          "data": {
            "text/plain": [
              "[138.09674072265625, 0.0]"
            ]
          },
          "metadata": {
            "tags": []
          },
          "execution_count": 22
        }
      ]
    },
    {
      "cell_type": "code",
      "metadata": {
        "colab": {
          "base_uri": "https://localhost:8080/"
        },
        "id": "1ia373zFLO5K",
        "outputId": "9d4ad5d2-dd9c-444c-bbf2-3b7380d1280f"
      },
      "source": [
        "pred_train= model.predict(part_x_train)\n",
        "print(np.sqrt(mean_squared_error(part_y_train,pred_train)))\n"
      ],
      "execution_count": 23,
      "outputs": [
        {
          "output_type": "stream",
          "text": [
            "11.805643851036265\n"
          ],
          "name": "stdout"
        }
      ]
    },
    {
      "cell_type": "code",
      "metadata": {
        "colab": {
          "base_uri": "https://localhost:8080/"
        },
        "id": "UO9tRWVxLO7p",
        "outputId": "44236449-b98e-4c33-beb4-9cb8839ca0c3"
      },
      "source": [
        "model.predict(x_test).sum()"
      ],
      "execution_count": 24,
      "outputs": [
        {
          "output_type": "execute_result",
          "data": {
            "text/plain": [
              "10764.212"
            ]
          },
          "metadata": {
            "tags": []
          },
          "execution_count": 24
        }
      ]
    },
    {
      "cell_type": "code",
      "metadata": {
        "id": "H-6QENwgLO9t"
      },
      "source": [
        ""
      ],
      "execution_count": null,
      "outputs": []
    },
    {
      "cell_type": "code",
      "metadata": {
        "id": "SuRI5506LPAT"
      },
      "source": [
        ""
      ],
      "execution_count": null,
      "outputs": []
    },
    {
      "cell_type": "code",
      "metadata": {
        "id": "yuHRgXt0LPCr"
      },
      "source": [
        ""
      ],
      "execution_count": null,
      "outputs": []
    },
    {
      "cell_type": "code",
      "metadata": {
        "id": "TK8PfqjELPFE"
      },
      "source": [
        ""
      ],
      "execution_count": null,
      "outputs": []
    }
  ]
}